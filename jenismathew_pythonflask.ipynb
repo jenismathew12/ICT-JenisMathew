{
 "cells": [
  {
   "cell_type": "code",
   "execution_count": 1,
   "id": "9c51cf05",
   "metadata": {},
   "outputs": [],
   "source": [
    "import pandas as pd\n",
    "from sklearn.neighbors import KNeighborsClassifier\n",
    "from flask import Flask, render_template, request"
   ]
  },
  {
   "cell_type": "code",
   "execution_count": 4,
   "id": "11c93f5a",
   "metadata": {},
   "outputs": [],
   "source": [
    "#load dataset \n",
    "data = pd.read_excel(r\"C:\\Users\\Jiss Mathew\\Desktop\\Python Programming-ICT\\Assignment on python flask\\iris .xls\")"
   ]
  },
  {
   "cell_type": "code",
   "execution_count": 5,
   "id": "af7b7935",
   "metadata": {},
   "outputs": [
    {
     "name": "stdout",
     "output_type": "stream",
     "text": [
      "Requirement already satisfied: pandas in c:\\users\\jiss mathew\\anaconda3\\lib\\site-packages (1.5.3)\n",
      "Requirement already satisfied: pytz>=2020.1 in c:\\users\\jiss mathew\\anaconda3\\lib\\site-packages (from pandas) (2022.7)\n",
      "Requirement already satisfied: numpy>=1.21.0 in c:\\users\\jiss mathew\\anaconda3\\lib\\site-packages (from pandas) (1.23.5)\n",
      "Requirement already satisfied: python-dateutil>=2.8.1 in c:\\users\\jiss mathew\\anaconda3\\lib\\site-packages (from pandas) (2.8.2)\n",
      "Requirement already satisfied: six>=1.5 in c:\\users\\jiss mathew\\anaconda3\\lib\\site-packages (from python-dateutil>=2.8.1->pandas) (1.16.0)\n",
      "Requirement already satisfied: flask in c:\\users\\jiss mathew\\anaconda3\\lib\\site-packages (2.2.2)\n",
      "Requirement already satisfied: itsdangerous>=2.0 in c:\\users\\jiss mathew\\anaconda3\\lib\\site-packages (from flask) (2.0.1)\n",
      "Requirement already satisfied: click>=8.0 in c:\\users\\jiss mathew\\anaconda3\\lib\\site-packages (from flask) (8.0.4)\n",
      "Requirement already satisfied: Jinja2>=3.0 in c:\\users\\jiss mathew\\anaconda3\\lib\\site-packages (from flask) (3.1.2)\n",
      "Requirement already satisfied: Werkzeug>=2.2.2 in c:\\users\\jiss mathew\\anaconda3\\lib\\site-packages (from flask) (2.2.2)\n",
      "Requirement already satisfied: colorama in c:\\users\\jiss mathew\\anaconda3\\lib\\site-packages (from click>=8.0->flask) (0.4.6)\n",
      "Requirement already satisfied: MarkupSafe>=2.0 in c:\\users\\jiss mathew\\anaconda3\\lib\\site-packages (from Jinja2>=3.0->flask) (2.1.1)\n"
     ]
    }
   ],
   "source": [
    "!pip install pandas\n",
    "!pip install flask"
   ]
  },
  {
   "cell_type": "code",
   "execution_count": 10,
   "id": "7445621c",
   "metadata": {},
   "outputs": [],
   "source": [
    "#Flask application\n",
    "app = Flask(__name__)"
   ]
  },
  {
   "cell_type": "code",
   "execution_count": 11,
   "id": "7ce3ba73",
   "metadata": {},
   "outputs": [],
   "source": [
    "#To create for web interface\n",
    "def index():\n",
    "    return render_template('index.html')"
   ]
  },
  {
   "cell_type": "code",
   "execution_count": 12,
   "id": "1057173b",
   "metadata": {},
   "outputs": [],
   "source": [
    "#To create for classification\n",
    "def classify():\n",
    "    sepal_length = float(request.form['sepal_length'])\n",
    "    sepal_width = float(request.form['sepal_width'])\n",
    "    petal_length = float(request.form['petal_length'])\n",
    "    petal_width = float(request.form['petal_width'])\n",
    "    "
   ]
  },
  {
   "cell_type": "code",
   "execution_count": 16,
   "id": "fda076e6",
   "metadata": {},
   "outputs": [],
   "source": [
    "# To create input features and target labels\n",
    "X = data.iloc[:, :-1].values\n",
    "y = data.iloc[:, -1].values"
   ]
  },
  {
   "cell_type": "code",
   "execution_count": 17,
   "id": "81a92ffe",
   "metadata": {},
   "outputs": [
    {
     "ename": "NameError",
     "evalue": "name 'sepal_length' is not defined",
     "output_type": "error",
     "traceback": [
      "\u001b[1;31m---------------------------------------------------------------------------\u001b[0m",
      "\u001b[1;31mNameError\u001b[0m                                 Traceback (most recent call last)",
      "Cell \u001b[1;32mIn[17], line 4\u001b[0m\n\u001b[0;32m      2\u001b[0m model \u001b[38;5;241m=\u001b[39m KNeighborsClassifier(n_neighbors\u001b[38;5;241m=\u001b[39m\u001b[38;5;241m3\u001b[39m)\n\u001b[0;32m      3\u001b[0m model\u001b[38;5;241m.\u001b[39mfit(X, y)\n\u001b[1;32m----> 4\u001b[0m new_data \u001b[38;5;241m=\u001b[39m [[\u001b[43msepal_length\u001b[49m, sepal_width, petal_length, petal_width]]\n\u001b[0;32m      5\u001b[0m prediction \u001b[38;5;241m=\u001b[39m model\u001b[38;5;241m.\u001b[39mpredict(new_data)[\u001b[38;5;241m0\u001b[39m]\n\u001b[0;32m      6\u001b[0m \u001b[38;5;28;01mreturn\u001b[39;00m \u001b[38;5;124mf\u001b[39m\u001b[38;5;124m\"\u001b[39m\u001b[38;5;124mThe input belongs to species: \u001b[39m\u001b[38;5;132;01m{\u001b[39;00mprediction\u001b[38;5;132;01m}\u001b[39;00m\u001b[38;5;124m\"\u001b[39m\n",
      "\u001b[1;31mNameError\u001b[0m: name 'sepal_length' is not defined"
     ]
    }
   ],
   "source": [
    "#Giving a machine learning model on the dataset\n",
    "model = KNeighborsClassifier(n_neighbors=3)\n",
    "model.fit(X, y)\n",
    "new_data = [[sepal_length, sepal_width, petal_length, petal_width]]\n",
    "prediction = model.predict(new_data)[0]\n",
    "return f\"The input belongs to species: {prediction}\""
   ]
  },
  {
   "cell_type": "code",
   "execution_count": null,
   "id": "ab815382",
   "metadata": {},
   "outputs": [],
   "source": []
  }
 ],
 "metadata": {
  "kernelspec": {
   "display_name": "Python 3 (ipykernel)",
   "language": "python",
   "name": "python3"
  },
  "language_info": {
   "codemirror_mode": {
    "name": "ipython",
    "version": 3
   },
   "file_extension": ".py",
   "mimetype": "text/x-python",
   "name": "python",
   "nbconvert_exporter": "python",
   "pygments_lexer": "ipython3",
   "version": "3.10.9"
  }
 },
 "nbformat": 4,
 "nbformat_minor": 5
}
