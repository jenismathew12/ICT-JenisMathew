{
 "cells": [
  {
   "cell_type": "code",
   "execution_count": 4,
   "id": "69f34507",
   "metadata": {},
   "outputs": [],
   "source": [
    "import numpy as np\n",
    "import pandas as pd\n",
    "import scipy.stats as stats"
   ]
  },
  {
   "cell_type": "code",
   "execution_count": 2,
   "id": "d4124cbc",
   "metadata": {},
   "outputs": [],
   "source": [
    "data=pd.read_csv(r\"C:\\Users\\Jiss Mathew\\Desktop\\Python Programming-ICT\\Assigment of Hypothesis\\Sales_add.csv\")"
   ]
  },
  {
   "cell_type": "code",
   "execution_count": 3,
   "id": "a4797aaf",
   "metadata": {},
   "outputs": [
    {
     "data": {
      "text/html": [
       "<div>\n",
       "<style scoped>\n",
       "    .dataframe tbody tr th:only-of-type {\n",
       "        vertical-align: middle;\n",
       "    }\n",
       "\n",
       "    .dataframe tbody tr th {\n",
       "        vertical-align: top;\n",
       "    }\n",
       "\n",
       "    .dataframe thead th {\n",
       "        text-align: right;\n",
       "    }\n",
       "</style>\n",
       "<table border=\"1\" class=\"dataframe\">\n",
       "  <thead>\n",
       "    <tr style=\"text-align: right;\">\n",
       "      <th></th>\n",
       "      <th>Month</th>\n",
       "      <th>Region</th>\n",
       "      <th>Manager</th>\n",
       "      <th>Sales_before_digital_add(in $)</th>\n",
       "      <th>Sales_After_digital_add(in $)</th>\n",
       "    </tr>\n",
       "  </thead>\n",
       "  <tbody>\n",
       "    <tr>\n",
       "      <th>0</th>\n",
       "      <td>Month-1</td>\n",
       "      <td>Region - A</td>\n",
       "      <td>Manager - A</td>\n",
       "      <td>132921</td>\n",
       "      <td>270390</td>\n",
       "    </tr>\n",
       "    <tr>\n",
       "      <th>1</th>\n",
       "      <td>Month-2</td>\n",
       "      <td>Region - A</td>\n",
       "      <td>Manager - C</td>\n",
       "      <td>149559</td>\n",
       "      <td>223334</td>\n",
       "    </tr>\n",
       "    <tr>\n",
       "      <th>2</th>\n",
       "      <td>Month-3</td>\n",
       "      <td>Region - B</td>\n",
       "      <td>Manager - A</td>\n",
       "      <td>146278</td>\n",
       "      <td>244243</td>\n",
       "    </tr>\n",
       "    <tr>\n",
       "      <th>3</th>\n",
       "      <td>Month-4</td>\n",
       "      <td>Region - B</td>\n",
       "      <td>Manager - B</td>\n",
       "      <td>152167</td>\n",
       "      <td>231808</td>\n",
       "    </tr>\n",
       "    <tr>\n",
       "      <th>4</th>\n",
       "      <td>Month-5</td>\n",
       "      <td>Region - C</td>\n",
       "      <td>Manager - B</td>\n",
       "      <td>159525</td>\n",
       "      <td>258402</td>\n",
       "    </tr>\n",
       "  </tbody>\n",
       "</table>\n",
       "</div>"
      ],
      "text/plain": [
       "     Month      Region      Manager  Sales_before_digital_add(in $)  \\\n",
       "0  Month-1  Region - A  Manager - A                          132921   \n",
       "1  Month-2  Region - A  Manager - C                          149559   \n",
       "2  Month-3  Region - B  Manager - A                          146278   \n",
       "3  Month-4  Region - B  Manager - B                          152167   \n",
       "4  Month-5  Region - C  Manager - B                          159525   \n",
       "\n",
       "   Sales_After_digital_add(in $)  \n",
       "0                         270390  \n",
       "1                         223334  \n",
       "2                         244243  \n",
       "3                         231808  \n",
       "4                         258402  "
      ]
     },
     "execution_count": 3,
     "metadata": {},
     "output_type": "execute_result"
    }
   ],
   "source": [
    "data.head()"
   ]
  },
  {
   "cell_type": "code",
   "execution_count": 9,
   "id": "9b342d11",
   "metadata": {},
   "outputs": [
    {
     "name": "stdout",
     "output_type": "stream",
     "text": [
      "Paired t-test results:\n",
      "t-statistic: -12.09070525287017\n",
      "p-value: 6.336667004575778e-11\n",
      "\n",
      "Chi-square test results for dependency between Region and Manager:\n",
      "Chi-square statistic: 3.050566893424036\n",
      "p-value: 0.5493991051158094\n"
     ]
    }
   ],
   "source": [
    "# Perform a paired t-test to test for sales increase\n",
    "sales_before=data['Sales_before_digital_add(in $)']\n",
    "sales_after=data['Sales_After_digital_add(in $)']\n",
    "t_statistic, p_value = stats.ttest_rel(sales_before, sales_after)\n",
    "\n",
    "# Print the results of the t-test\n",
    "print(\"Paired t-test results:\")\n",
    "print(\"t-statistic:\", t_statistic)\n",
    "print(\"p-value:\", p_value)\n",
    "\n",
    "# Perform a chi-square test of independence for \"Region\" and \"Manager\"\n",
    "region = data['Region']\n",
    "manager = data['Manager']\n",
    "observed = pd.crosstab(region, manager)\n",
    "chi2_stat, p_value, _, _ = stats.chi2_contingency(observed)\n",
    "\n",
    "# Print the results of the chi-square test\n",
    "print(\"\\nChi-square test results for dependency between Region and Manager:\")\n",
    "print(\"Chi-square statistic:\", chi2_stat)\n",
    "print(\"p-value:\", p_value)"
   ]
  },
  {
   "cell_type": "code",
   "execution_count": 6,
   "id": "aae48e41",
   "metadata": {},
   "outputs": [
    {
     "name": "stdout",
     "output_type": "stream",
     "text": [
      "Index(['Month', 'Region', 'Manager', 'Sales_before_digital_add(in $)',\n",
      "       'Sales_After_digital_add(in $)'],\n",
      "      dtype='object')\n"
     ]
    }
   ],
   "source": [
    "print(data.columns)"
   ]
  },
  {
   "cell_type": "code",
   "execution_count": 7,
   "id": "f357dee0",
   "metadata": {},
   "outputs": [],
   "source": [
    "data.columns = data.columns.str.strip()"
   ]
  },
  {
   "cell_type": "code",
   "execution_count": 8,
   "id": "19011d94",
   "metadata": {},
   "outputs": [
    {
     "name": "stdout",
     "output_type": "stream",
     "text": [
      "Index(['Month', 'Region', 'Manager', 'Sales_before_digital_add(in $)',\n",
      "       'Sales_After_digital_add(in $)'],\n",
      "      dtype='object')\n"
     ]
    }
   ],
   "source": [
    "print(data.columns)"
   ]
  },
  {
   "cell_type": "code",
   "execution_count": null,
   "id": "2d6922a8",
   "metadata": {},
   "outputs": [],
   "source": []
  }
 ],
 "metadata": {
  "kernelspec": {
   "display_name": "Python 3 (ipykernel)",
   "language": "python",
   "name": "python3"
  },
  "language_info": {
   "codemirror_mode": {
    "name": "ipython",
    "version": 3
   },
   "file_extension": ".py",
   "mimetype": "text/x-python",
   "name": "python",
   "nbconvert_exporter": "python",
   "pygments_lexer": "ipython3",
   "version": "3.10.9"
  }
 },
 "nbformat": 4,
 "nbformat_minor": 5
}
